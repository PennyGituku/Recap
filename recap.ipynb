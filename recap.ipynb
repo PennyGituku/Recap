{
 "cells": [
  {
   "cell_type": "code",
   "execution_count": 1,
   "metadata": {},
   "outputs": [
    {
     "data": {
      "text/plain": [
       "'Keanu'"
      ]
     },
     "execution_count": 1,
     "metadata": {},
     "output_type": "execute_result"
    }
   ],
   "source": [
    "#strings\n",
    "first_dog = \"Keanu\"\n",
    "first_dog"
   ]
  },
  {
   "cell_type": "code",
   "execution_count": 2,
   "metadata": {},
   "outputs": [
    {
     "data": {
      "text/plain": [
       "True"
      ]
     },
     "execution_count": 2,
     "metadata": {},
     "output_type": "execute_result"
    }
   ],
   "source": [
    "#boolean\n",
    "is_a_boerboel = True\n",
    "is_a_retriever = False\n",
    "is_a_boerboel"
   ]
  },
  {
   "cell_type": "code",
   "execution_count": 3,
   "metadata": {},
   "outputs": [
    {
     "data": {
      "text/plain": [
       "16"
      ]
     },
     "execution_count": 3,
     "metadata": {},
     "output_type": "execute_result"
    }
   ],
   "source": [
    "#integers\n",
    "number_of_dogs = 10+6\n",
    "number_of_dogs"
   ]
  },
  {
   "cell_type": "code",
   "execution_count": 4,
   "metadata": {},
   "outputs": [
    {
     "data": {
      "text/plain": [
       "float"
      ]
     },
     "execution_count": 4,
     "metadata": {},
     "output_type": "execute_result"
    }
   ],
   "source": [
    "#floats\n",
    "type(16.1)"
   ]
  },
  {
   "cell_type": "code",
   "execution_count": 5,
   "metadata": {},
   "outputs": [
    {
     "data": {
      "text/plain": [
       "str"
      ]
     },
     "execution_count": 5,
     "metadata": {},
     "output_type": "execute_result"
    }
   ],
   "source": [
    "type(first_dog)"
   ]
  },
  {
   "cell_type": "code",
   "execution_count": 6,
   "metadata": {},
   "outputs": [
    {
     "name": "stdout",
     "output_type": "stream",
     "text": [
      "Moringa School\n"
     ]
    }
   ],
   "source": [
    "#concatenation \n",
    "name_one = \"Moringa\"\n",
    "name_two = \"School\"\n",
    "school_name = name_one + \" \" + name_two\n",
    "print(school_name)"
   ]
  },
  {
   "cell_type": "code",
   "execution_count": 7,
   "metadata": {},
   "outputs": [
    {
     "data": {
      "text/plain": [
       "'Hello i am studying JavaScript'"
      ]
     },
     "execution_count": 7,
     "metadata": {},
     "output_type": "execute_result"
    }
   ],
   "source": [
    "sentence = \"Hello i am studying Python\"\n",
    "new_sentence = sentence.replace(\"Python\",\"JavaScript\")\n",
    "new_sentence"
   ]
  },
  {
   "cell_type": "code",
   "execution_count": 8,
   "metadata": {},
   "outputs": [
    {
     "data": {
      "text/plain": [
       "True"
      ]
     },
     "execution_count": 8,
     "metadata": {},
     "output_type": "execute_result"
    }
   ],
   "source": [
    "new_sentence.endswith(\"JavaScript\")"
   ]
  },
  {
   "cell_type": "code",
   "execution_count": 9,
   "metadata": {},
   "outputs": [
    {
     "data": {
      "text/plain": [
       "True"
      ]
     },
     "execution_count": 9,
     "metadata": {},
     "output_type": "execute_result"
    }
   ],
   "source": [
    "new_sentence.startswith(\"Hello\")"
   ]
  },
  {
   "cell_type": "code",
   "execution_count": 10,
   "metadata": {},
   "outputs": [
    {
     "data": {
      "text/plain": [
       "True"
      ]
     },
     "execution_count": 10,
     "metadata": {},
     "output_type": "execute_result"
    }
   ],
   "source": [
    "#comparison operators\n",
    "50 > 40"
   ]
  },
  {
   "cell_type": "code",
   "execution_count": 5,
   "metadata": {},
   "outputs": [
    {
     "data": {
      "text/plain": [
       "1"
      ]
     },
     "execution_count": 5,
     "metadata": {},
     "output_type": "execute_result"
    }
   ],
   "source": [
    "#Arithmetic operators\n",
    "#   +, *, -, /, %, **, //\n",
    "# modulus %\n",
    "5 % 4"
   ]
  },
  {
   "cell_type": "code",
   "execution_count": 6,
   "metadata": {},
   "outputs": [
    {
     "data": {
      "text/plain": [
       "4"
      ]
     },
     "execution_count": 6,
     "metadata": {},
     "output_type": "execute_result"
    }
   ],
   "source": [
    "2 **2"
   ]
  },
  {
   "cell_type": "code",
   "execution_count": 7,
   "metadata": {},
   "outputs": [
    {
     "data": {
      "text/plain": [
       "0.8"
      ]
     },
     "execution_count": 7,
     "metadata": {},
     "output_type": "execute_result"
    }
   ],
   "source": [
    "4/5"
   ]
  },
  {
   "cell_type": "code",
   "execution_count": 8,
   "metadata": {},
   "outputs": [
    {
     "data": {
      "text/plain": [
       "0"
      ]
     },
     "execution_count": 8,
     "metadata": {},
     "output_type": "execute_result"
    }
   ],
   "source": [
    "4//5"
   ]
  },
  {
   "cell_type": "code",
   "execution_count": null,
   "metadata": {},
   "outputs": [],
   "source": [
    "#comparison operators\n",
    "#  =, ==, always give a boolean value"
   ]
  },
  {
   "cell_type": "code",
   "execution_count": 9,
   "metadata": {},
   "outputs": [
    {
     "name": "stdout",
     "output_type": "stream",
     "text": [
      "expensive\n"
     ]
    }
   ],
   "source": [
    "#control flow operators  if - else, if - elif - else, try -except\n",
    "# if else statement\n",
    "price = 200000\n",
    "if price > 150000:\n",
    "    print(\"expensive\")\n",
    "else:\n",
    "    print(\"cheap\")"
   ]
  },
  {
   "cell_type": "code",
   "execution_count": 10,
   "metadata": {},
   "outputs": [
    {
     "name": "stdout",
     "output_type": "stream",
     "text": [
      "Keanu\n",
      "Milo\n",
      "Khaleesi\n",
      "Gaena\n"
     ]
    }
   ],
   "source": [
    "#for loop\n",
    "dogs = [\"Keanu\", \"Milo\", \"Khaleesi\", \"Gaena\"]\n",
    "for dog in dogs:\n",
    "    print(dog)"
   ]
  },
  {
   "cell_type": "code",
   "execution_count": 11,
   "metadata": {},
   "outputs": [
    {
     "name": "stdout",
     "output_type": "stream",
     "text": [
      "1\n",
      "2\n",
      "3\n",
      "4\n",
      "5\n"
     ]
    }
   ],
   "source": [
    "for i in range(1,6):\n",
    "    print(i)"
   ]
  },
  {
   "cell_type": "code",
   "execution_count": 12,
   "metadata": {},
   "outputs": [
    {
     "name": "stdout",
     "output_type": "stream",
     "text": [
      "Keanu GGK\n",
      "Milo GGK\n",
      "Khaleesi GGK\n",
      "Gaena GGK\n"
     ]
    }
   ],
   "source": [
    "for dog in dogs:\n",
    "    print((dog) + \" GGK\")"
   ]
  },
  {
   "cell_type": "code",
   "execution_count": 13,
   "metadata": {},
   "outputs": [],
   "source": [
    "#Next, let's see what day of the week it is. There are 7 days in the week starting with Sunday at day 1 and ending with Saturday at day 7. Use conditional statements to assign the day of the week to the variable day_of_the_week based on the number below assigned to the variable today_is. For example, if the day is 2, we would assign day_of_the_week the value \"Monday\".\n",
    "\n",
    "today_is = 2\n",
    "#day_of_the_week = \"Monday\"\n",
    "if today_is == 1:\n",
    "    day_of_the_week = \"Sunday\"\n",
    "elif today_is == 2:\n",
    "    day_of_the_week = \"Monday\"\n",
    "elif today_is == 3:\n",
    "    day_of_the_week = \"Tuesday\"\n",
    "elif today_is == 4:\n",
    "    day_of_the_week = \"Wednesday\"\n",
    "elif today_is == 5:\n",
    "    day_of_the_week = \"Thursday\"\n",
    "elif today_is == 6:\n",
    "    day_of_the_week = \"Friday\"\n",
    "elif today_is == 7:\n",
    "    day_of_the_week = \"Saturday\"\n",
    "else:\n",
    "    day_of_the_week = \"Invalid day!\"\n",
    "    print(day_of_the_week)"
   ]
  },
  {
   "cell_type": "code",
   "execution_count": null,
   "metadata": {},
   "outputs": [],
   "source": [
    "#assignment \n",
    "# Logical Operators, Identity Operators and Membership OPerators"
   ]
  },
  {
   "cell_type": "code",
   "execution_count": 14,
   "metadata": {},
   "outputs": [
    {
     "name": "stdout",
     "output_type": "stream",
     "text": [
      "['cmr', 'cvr', 'cbrd', 'crdr']\n"
     ]
    }
   ],
   "source": [
    "labs = ['cmr', 'cvr', 'cbrd', 'crdr']\n",
    "print(labs)"
   ]
  },
  {
   "cell_type": "code",
   "execution_count": 15,
   "metadata": {},
   "outputs": [
    {
     "data": {
      "text/plain": [
       "'crdr'"
      ]
     },
     "execution_count": 15,
     "metadata": {},
     "output_type": "execute_result"
    }
   ],
   "source": [
    "labs[3]"
   ]
  },
  {
   "cell_type": "code",
   "execution_count": 16,
   "metadata": {},
   "outputs": [
    {
     "data": {
      "text/plain": [
       "'cbrd'"
      ]
     },
     "execution_count": 16,
     "metadata": {},
     "output_type": "execute_result"
    }
   ],
   "source": [
    "labs[-2]"
   ]
  },
  {
   "cell_type": "code",
   "execution_count": 17,
   "metadata": {},
   "outputs": [
    {
     "name": "stdout",
     "output_type": "stream",
     "text": [
      "['cmr', 'cvr', 'cbrd', 'crdr', 'parasitology']\n"
     ]
    }
   ],
   "source": [
    "labs.append('parasitology')\n",
    "print(labs)"
   ]
  },
  {
   "cell_type": "code",
   "execution_count": 18,
   "metadata": {},
   "outputs": [
    {
     "name": "stdout",
     "output_type": "stream",
     "text": [
      "['cmr', 'cbrd', 'crdr', 'parasitology']\n"
     ]
    }
   ],
   "source": [
    "labs.pop(1)\n",
    "print(labs)"
   ]
  },
  {
   "cell_type": "code",
   "execution_count": 19,
   "metadata": {},
   "outputs": [
    {
     "name": "stdout",
     "output_type": "stream",
     "text": [
      "['cmr', 'cbrd', 'parasitology']\n"
     ]
    }
   ],
   "source": [
    "labs.remove('crdr')\n",
    "print(labs)"
   ]
  },
  {
   "cell_type": "code",
   "execution_count": 20,
   "metadata": {},
   "outputs": [
    {
     "name": "stdout",
     "output_type": "stream",
     "text": [
      "['kitchen', 'cbrd', 'parasitology']\n"
     ]
    }
   ],
   "source": [
    "labs[0] = 'kitchen'\n",
    "print(labs)"
   ]
  },
  {
   "cell_type": "code",
   "execution_count": 21,
   "metadata": {},
   "outputs": [
    {
     "name": "stdout",
     "output_type": "stream",
     "text": [
      "['kitchen', 'toilet', 'cbrd', 'parasitology']\n"
     ]
    }
   ],
   "source": [
    "labs.insert(1,'toilet')\n",
    "print(labs)"
   ]
  },
  {
   "cell_type": "code",
   "execution_count": 1,
   "metadata": {},
   "outputs": [
    {
     "name": "stdout",
     "output_type": "stream",
     "text": [
      "{'ovcharka': 'khaleesi', 'retriver': 'milo', 'gsd': 'maya'}\n"
     ]
    }
   ],
   "source": [
    "dogs = {\n",
    "    'ovcharka':'khaleesi',\n",
    "    'retriver':'milo',\n",
    "    'gsd':'maya'}\n",
    "print(dogs)"
   ]
  },
  {
   "cell_type": "code",
   "execution_count": 2,
   "metadata": {},
   "outputs": [
    {
     "name": "stdout",
     "output_type": "stream",
     "text": [
      "{'ovcharka': 'khaleesi', 'retriver': 'milo', 'gsd': 'maya', 'mix': 'pixie'}\n"
     ]
    }
   ],
   "source": [
    "dogs['mix'] = 'pixie'\n",
    "print(dogs)"
   ]
  },
  {
   "cell_type": "code",
   "execution_count": 24,
   "metadata": {},
   "outputs": [
    {
     "ename": "SyntaxError",
     "evalue": "invalid syntax (<ipython-input-24-7d3d49e2537d>, line 2)",
     "output_type": "error",
     "traceback": [
      "\u001b[0;36m  File \u001b[0;32m\"<ipython-input-24-7d3d49e2537d>\"\u001b[0;36m, line \u001b[0;32m2\u001b[0m\n\u001b[0;31m    del.dogs[ovcharka]\u001b[0m\n\u001b[0m       ^\u001b[0m\n\u001b[0;31mSyntaxError\u001b[0m\u001b[0;31m:\u001b[0m invalid syntax\n"
     ]
    }
   ],
   "source": [
    "#dogs.pop[gsd]\n",
    "del.dogs[ovcharka]"
   ]
  },
  {
   "cell_type": "code",
   "execution_count": null,
   "metadata": {},
   "outputs": [],
   "source": []
  }
 ],
 "metadata": {
  "kernelspec": {
   "display_name": "learn-env",
   "language": "python",
   "name": "learn-env"
  },
  "language_info": {
   "codemirror_mode": {
    "name": "ipython",
    "version": 3
   },
   "file_extension": ".py",
   "mimetype": "text/x-python",
   "name": "python",
   "nbconvert_exporter": "python",
   "pygments_lexer": "ipython3",
   "version": "3.8.5"
  }
 },
 "nbformat": 4,
 "nbformat_minor": 4
}
